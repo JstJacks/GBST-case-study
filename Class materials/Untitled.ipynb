{
 "cells": [
  {
   "cell_type": "code",
   "execution_count": 1,
   "id": "1e8a4063-cb9c-4e29-bd45-542add9c1307",
   "metadata": {},
   "outputs": [],
   "source": [
    "# -*- coding: utf-8 -*-\n",
    "\"\"\"Refresher activity.\n",
    "\n",
    "This script will use variables, conditionals, lists, dicts, and functions\n",
    "to print out different greetings for customers based on their\n",
    "business tier (determined by revenue).\n",
    "\"\"\"\n",
    "\n",
    "# List of dicts\n",
    "customers = [\n",
    "    { \"first_name\": \"Tom\", \"last_name\": \"Bell\", \"revenue\": 0 },\n",
    "    { \"first_name\": \"Maggie\", \"last_name\": \"Johnson\", \"revenue\": 1032 },\n",
    "    { \"first_name\": \"John\", \"last_name\": \"Spectre\", \"revenue\": 2543 },\n",
    "    { \"first_name\": \"Susy\", \"last_name\": \"Simmons\", \"revenue\": 5322 }\n",
    "]\n",
    "\n",
    "# @TODO Define a function that accepts a customer first_name, last_name, and\n",
    "# revenue and returns a custom greeting with the full name.\n",
    "# Use these ranges to determine the business tier (and corresponding message)\n",
    "# for each customer.\n",
    "#   Platinum = 3001+\n",
    "#   Gold = 2001-3000\n",
    "#   Silver = 1001-2000\n",
    "#   Bronze = 0-1000\n",
    "def create_greeting(first_name, last_name, revenue):\n",
    "    # @TODO: YOUR CODE HERE!\n",
    "    greeting = \"\"\n",
    "    return greeting\n",
    "\n",
    "# @TODO: Loop through the list of customers and use your function to print\n",
    "# custom greetings for each customer.\n",
    "# @TODO: YOUR CODE HERE!\n"
   ]
  },
  {
   "cell_type": "code",
   "execution_count": 29,
   "id": "aab8145d",
   "metadata": {},
   "outputs": [
    {
     "ename": "SyntaxError",
     "evalue": "EOL while scanning string literal (Temp/ipykernel_5244/757176517.py, line 42)",
     "output_type": "error",
     "traceback": [
      "\u001b[1;36m  File \u001b[1;32m\"C:\\Users\\Jacks\\AppData\\Local\\Temp/ipykernel_5244/757176517.py\"\u001b[1;36m, line \u001b[1;32m42\u001b[0m\n\u001b[1;33m    print(f'the bond is worth it as {bond_value} is below the selling price\")\u001b[0m\n\u001b[1;37m                                                                             ^\u001b[0m\n\u001b[1;31mSyntaxError\u001b[0m\u001b[1;31m:\u001b[0m EOL while scanning string literal\n"
     ]
    }
   ],
   "source": [
    "\n",
    "# -*- coding: utf-8 -*-\n",
    "\"\"\"\n",
    "Zero-Coupon Bond Valuation.\n",
    "\n",
    "This script will calculate the present value of zero-coupon bonds, compare the present value to the price of the bond, and determine the corresponding action (buy, not buy, neutral).\n",
    "\"\"\"\n",
    "\n",
    "\n",
    "\n",
    "\n",
    "# @TODO: Create a function to calculate present value\n",
    "\n",
    "def calculate_present_value(future_value, discount_rate, compounding_periods, years):\n",
    "\n",
    " present_value = future_value / (\n",
    "     (1 + (discount_rate/compounding_periods))**(compounding_periods * years)\n",
    " )\n",
    "\n",
    " present_value_formatted = round(present_value, 2)\n",
    "\n",
    " return present_value_formated\n",
    "\n",
    "# Intialize the zero-coupon bond parameters, assume compounding period is equal to 1\n",
    "price = 700\n",
    "future_value = 1000\n",
    "discount_rate = .1\n",
    "compounding_periods = 1\n",
    "years = 5\n",
    "\n",
    "\n",
    "\n",
    "# @TODO: Call the calculate_present_value() function and assign to a variable\n",
    "bond_value = calculate_present_value(future_value, discount_rate, compounding_periods, years)\n",
    "\n",
    "print (f\"The present value of ${future_value} at a discount rate of {discount_rate} compunded {compounding_periods} time per year over {years} years is ${present_value}\")\n",
    "       \n",
    "\n",
    "# @TODO: Determine if the bond is worth it\n",
    "if bond_value > 700:\n",
    "    print(f\"the bond is not worth it as {bond_value} is higher than the price\")\n",
    "elif bond_value <= 700:\n",
    "    print(f'the bond is worth it as {bond_value} is below the selling price\")"
   ]
  },
  {
   "cell_type": "code",
   "execution_count": 35,
   "id": "dcea064f-789b-4bda-9fea-cacebfb59439",
   "metadata": {},
   "outputs": [
    {
     "name": "stdout",
     "output_type": "stream",
     "text": [
      "The present value of $1000 at a discount rate of 0.1 compunded 1 time per year over 5 years is $620.92\n"
     ]
    }
   ],
   "source": [
    "\n",
    "# -*- coding: utf-8 -*-\n",
    "\"\"\"\n",
    "Zero-Coupon Bond Valuation.\n",
    "\n",
    "This script will calculate the present value of zero-coupon bonds, compare the present value to the price of the bond, and determine the corresponding action (buy, not buy, neutral).\n",
    "\"\"\"\n",
    "\n",
    "\n",
    "\n",
    "\n",
    "# @TODO: Create a function to calculate present value\n",
    "\n",
    "def calculate_present_value(future_value, discount_rate, compounding_periods, years):\n",
    "\n",
    " present_value = future_value / (\n",
    "     (1 + (discount_rate/compounding_periods))**(compounding_periods * years)\n",
    " )\n",
    "\n",
    " present_value_formatted = round(present_value, 2)\n",
    "\n",
    " return present_value_formatted\n",
    "\n",
    "# Intialize the zero-coupon bond parameters, assume compounding period is equal to 1\n",
    "price = 700\n",
    "future_value = 1000\n",
    "discount_rate = .1\n",
    "compounding_periods = 1\n",
    "years = 5\n",
    "\n",
    "\n",
    "\n",
    "# @TODO: Call the calculate_present_value() function and assign to a variable\n",
    "bond_value = calculate_present_value(future_value, discount_rate, compounding_periods, years)\n",
    "\n",
    "\n",
    "print (f\"The present value of ${future_value} at a discount rate of {discount_rate} compunded {compounding_periods} time per year over {years} years is ${bond_value}\")\n",
    "       \n",
    "\n",
    "# @TODO: Determine if the bond is worth it\n"
   ]
  },
  {
   "cell_type": "code",
   "execution_count": null,
   "id": "973a7c6b-0ebe-4eb1-b290-aabf80c1e853",
   "metadata": {},
   "outputs": [],
   "source": [
    "Activity 3"
   ]
  },
  {
   "cell_type": "code",
   "execution_count": 39,
   "id": "a51a44ca-b060-4c1e-a682-a8764034c47e",
   "metadata": {},
   "outputs": [],
   "source": [
    "import numpy as np"
   ]
  },
  {
   "cell_type": "code",
   "execution_count": 38,
   "id": "c6653b7b-4b79-4663-aa89-f584fd2e1276",
   "metadata": {},
   "outputs": [
    {
     "name": "stderr",
     "output_type": "stream",
     "text": [
      "C:\\Users\\Jacks\\AppData\\Local\\Temp/ipykernel_5244/1833075881.py:5: DeprecationWarning: In accordance with NEP 32, the function npv was removed from NumPy version 1.20.  A replacement for this function is available in the numpy_financial library: https://pypi.org/project/numpy-financial\n",
      "  NPV = numpy.npv(interest_rate, cash_flows)\n"
     ]
    },
    {
     "ename": "RuntimeError",
     "evalue": "In accordance with NEP 32, the function npv was removed from NumPy version 1.20.  A replacement for this function is available in the numpy_financial library: https://pypi.org/project/numpy-financial",
     "output_type": "error",
     "traceback": [
      "\u001b[1;31m---------------------------------------------------------------------------\u001b[0m",
      "\u001b[1;31mRuntimeError\u001b[0m                              Traceback (most recent call last)",
      "\u001b[1;32m~\\AppData\\Local\\Temp/ipykernel_5244/1833075881.py\u001b[0m in \u001b[0;36m<module>\u001b[1;34m\u001b[0m\n\u001b[0;32m      3\u001b[0m \u001b[0mcash_flows\u001b[0m \u001b[1;33m=\u001b[0m \u001b[1;33m[\u001b[0m\u001b[1;33m-\u001b[0m\u001b[1;36m1000\u001b[0m\u001b[1;33m,\u001b[0m \u001b[1;36m400\u001b[0m\u001b[1;33m,\u001b[0m\u001b[1;36m400\u001b[0m\u001b[1;33m,\u001b[0m\u001b[1;36m400\u001b[0m\u001b[1;33m,\u001b[0m\u001b[1;36m400\u001b[0m\u001b[1;33m]\u001b[0m\u001b[1;33m\u001b[0m\u001b[1;33m\u001b[0m\u001b[0m\n\u001b[0;32m      4\u001b[0m \u001b[1;33m\u001b[0m\u001b[0m\n\u001b[1;32m----> 5\u001b[1;33m \u001b[0mNPV\u001b[0m \u001b[1;33m=\u001b[0m \u001b[0mnumpy\u001b[0m\u001b[1;33m.\u001b[0m\u001b[0mnpv\u001b[0m\u001b[1;33m(\u001b[0m\u001b[0minterest_rate\u001b[0m\u001b[1;33m,\u001b[0m \u001b[0mcash_flows\u001b[0m\u001b[1;33m)\u001b[0m\u001b[1;33m\u001b[0m\u001b[1;33m\u001b[0m\u001b[0m\n\u001b[0m\u001b[0;32m      6\u001b[0m \u001b[0mprint\u001b[0m\u001b[1;33m(\u001b[0m\u001b[1;34mf\"NPV = [NPV]\"\u001b[0m\u001b[1;33m)\u001b[0m\u001b[1;33m\u001b[0m\u001b[1;33m\u001b[0m\u001b[0m\n\u001b[0;32m      7\u001b[0m \u001b[1;33m\u001b[0m\u001b[0m\n",
      "\u001b[1;32m~\\anaconda3\\lib\\site-packages\\numpy\\__init__.py\u001b[0m in \u001b[0;36m_expired\u001b[1;34m(*args, **kwds)\u001b[0m\n\u001b[0;32m    275\u001b[0m \u001b[1;33m\u001b[0m\u001b[0m\n\u001b[0;32m    276\u001b[0m                 \u001b[1;32mdef\u001b[0m \u001b[0m_expired\u001b[0m\u001b[1;33m(\u001b[0m\u001b[1;33m*\u001b[0m\u001b[0margs\u001b[0m\u001b[1;33m,\u001b[0m \u001b[1;33m**\u001b[0m\u001b[0mkwds\u001b[0m\u001b[1;33m)\u001b[0m\u001b[1;33m:\u001b[0m\u001b[1;33m\u001b[0m\u001b[1;33m\u001b[0m\u001b[0m\n\u001b[1;32m--> 277\u001b[1;33m                     \u001b[1;32mraise\u001b[0m \u001b[0mRuntimeError\u001b[0m\u001b[1;33m(\u001b[0m\u001b[0mmsg\u001b[0m\u001b[1;33m)\u001b[0m\u001b[1;33m\u001b[0m\u001b[1;33m\u001b[0m\u001b[0m\n\u001b[0m\u001b[0;32m    278\u001b[0m \u001b[1;33m\u001b[0m\u001b[0m\n\u001b[0;32m    279\u001b[0m                 \u001b[1;32mreturn\u001b[0m \u001b[0m_expired\u001b[0m\u001b[1;33m\u001b[0m\u001b[1;33m\u001b[0m\u001b[0m\n",
      "\u001b[1;31mRuntimeError\u001b[0m: In accordance with NEP 32, the function npv was removed from NumPy version 1.20.  A replacement for this function is available in the numpy_financial library: https://pypi.org/project/numpy-financial"
     ]
    }
   ],
   "source": [
    "#initialize some variables\n",
    "interest_rate = 0.1\n",
    "cash_flows = [-1000, 400,400,400,400]\n",
    "\n",
    "NPV = numpy.npv(interest_rate, cash_flows)\n",
    "print(f\"NPV = [NPV]\")\n",
    "      "
   ]
  },
  {
   "cell_type": "code",
   "execution_count": 40,
   "id": "58015738-010a-47e6-8d7a-46dedffabd2c",
   "metadata": {},
   "outputs": [
    {
     "ename": "SyntaxError",
     "evalue": "invalid syntax (Temp/ipykernel_5244/2385829600.py, line 1)",
     "output_type": "error",
     "traceback": [
      "\u001b[1;36m  File \u001b[1;32m\"C:\\Users\\Jacks\\AppData\\Local\\Temp/ipykernel_5244/2385829600.py\"\u001b[1;36m, line \u001b[1;32m1\u001b[0m\n\u001b[1;33m    student activity 3\u001b[0m\n\u001b[1;37m            ^\u001b[0m\n\u001b[1;31mSyntaxError\u001b[0m\u001b[1;31m:\u001b[0m invalid syntax\n"
     ]
    }
   ],
   "source": [
    "student activity 3"
   ]
  },
  {
   "cell_type": "code",
   "execution_count": 41,
   "id": "0491f304-1d4d-4c32-8e9d-948aed74289d",
   "metadata": {},
   "outputs": [],
   "source": [
    "# -*- coding: utf-8 -*-\n",
    "\"\"\"Student Activity: Financial Analysis using NPV.\n",
    "\n",
    "This script will choose the optimal project scenario to\n",
    "undertake based on max NPV values.\n",
    "\"\"\"\n",
    "\n",
    "# @TODO: Import the NumPy library\n",
    "\n",
    "import numpy as np\n",
    "\n",
    "# Discount Rate\n",
    "discount_rate = .1\n",
    "\n",
    "# Initial Investment, Cash Flow 1, Cash Flow 2, Cash Flow 3, Cash Flow 4\n",
    "cash_flows_conservative = [-1000, 400, 400, 400, 400]\n",
    "cash_flows_neutral = [-1500, 600, 600, 600, 600]\n",
    "cash_flows_aggressive = [-2250, 800, 800, 800, 800]\n",
    "\n",
    "# @TODO: Initialize dictionary to hold NPV return values\n",
    "npv_dict = {}\n",
    "\n",
    "# @TODO: Calculate the NPV for each scenario\n",
    "\n",
    "\n",
    "\n",
    "\n",
    "# @TODO: Initialize variables\n",
    "\n",
    "\n",
    "\n",
    "# @TODO: Iterate over npv_dict to find the max key-value pair\n",
    "\n",
    "\n",
    "\n",
    "\n",
    "\n",
    "\n",
    "\n",
    "\n",
    "\n",
    "\n",
    "# @TODO: Print out the optimal project scenario with the highest NPV value\n"
   ]
  },
  {
   "cell_type": "code",
   "execution_count": null,
   "id": "35f4c394-5f12-4946-a41b-4031c89757d2",
   "metadata": {},
   "outputs": [],
   "source": []
  }
 ],
 "metadata": {
  "kernelspec": {
   "display_name": "Python 3 (ipykernel)",
   "language": "python",
   "name": "python3"
  },
  "language_info": {
   "codemirror_mode": {
    "name": "ipython",
    "version": 3
   },
   "file_extension": ".py",
   "mimetype": "text/x-python",
   "name": "python",
   "nbconvert_exporter": "python",
   "pygments_lexer": "ipython3",
   "version": "3.9.7"
  }
 },
 "nbformat": 4,
 "nbformat_minor": 5
}
