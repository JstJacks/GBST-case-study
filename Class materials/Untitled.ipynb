{
 "cells": [
  {
   "cell_type": "code",
   "execution_count": 1,
   "id": "1e8a4063-cb9c-4e29-bd45-542add9c1307",
   "metadata": {},
   "outputs": [],
   "source": [
    "# -*- coding: utf-8 -*-\n",
    "\"\"\"Refresher activity.\n",
    "\n",
    "This script will use variables, conditionals, lists, dicts, and functions\n",
    "to print out different greetings for customers based on their\n",
    "business tier (determined by revenue).\n",
    "\"\"\"\n",
    "\n",
    "# List of dicts\n",
    "customers = [\n",
    "    { \"first_name\": \"Tom\", \"last_name\": \"Bell\", \"revenue\": 0 },\n",
    "    { \"first_name\": \"Maggie\", \"last_name\": \"Johnson\", \"revenue\": 1032 },\n",
    "    { \"first_name\": \"John\", \"last_name\": \"Spectre\", \"revenue\": 2543 },\n",
    "    { \"first_name\": \"Susy\", \"last_name\": \"Simmons\", \"revenue\": 5322 }\n",
    "]\n",
    "\n",
    "# @TODO Define a function that accepts a customer first_name, last_name, and\n",
    "# revenue and returns a custom greeting with the full name.\n",
    "# Use these ranges to determine the business tier (and corresponding message)\n",
    "# for each customer.\n",
    "#   Platinum = 3001+\n",
    "#   Gold = 2001-3000\n",
    "#   Silver = 1001-2000\n",
    "#   Bronze = 0-1000\n",
    "def create_greeting(first_name, last_name, revenue):\n",
    "    # @TODO: YOUR CODE HERE!\n",
    "    greeting = \"\"\n",
    "    return greeting\n",
    "\n",
    "# @TODO: Loop through the list of customers and use your function to print\n",
    "# custom greetings for each customer.\n",
    "# @TODO: YOUR CODE HERE!\n"
   ]
  },
  {
   "cell_type": "code",
   "execution_count": 29,
   "id": "aab8145d",
   "metadata": {},
   "outputs": [
    {
     "ename": "SyntaxError",
     "evalue": "EOL while scanning string literal (Temp/ipykernel_5244/757176517.py, line 42)",
     "output_type": "error",
     "traceback": [
      "\u001b[1;36m  File \u001b[1;32m\"C:\\Users\\Jacks\\AppData\\Local\\Temp/ipykernel_5244/757176517.py\"\u001b[1;36m, line \u001b[1;32m42\u001b[0m\n\u001b[1;33m    print(f'the bond is worth it as {bond_value} is below the selling price\")\u001b[0m\n\u001b[1;37m                                                                             ^\u001b[0m\n\u001b[1;31mSyntaxError\u001b[0m\u001b[1;31m:\u001b[0m EOL while scanning string literal\n"
     ]
    }
   ],
   "source": [
    "\n",
    "# -*- coding: utf-8 -*-\n",
    "\"\"\"\n",
    "Zero-Coupon Bond Valuation.\n",
    "\n",
    "This script will calculate the present value of zero-coupon bonds, compare the present value to the price of the bond, and determine the corresponding action (buy, not buy, neutral).\n",
    "\"\"\"\n",
    "\n",
    "\n",
    "\n",
    "\n",
    "# @TODO: Create a function to calculate present value\n",
    "\n",
    "def calculate_present_value(future_value, discount_rate, compounding_periods, years):\n",
    "\n",
    " present_value = future_value / (\n",
    "     (1 + (discount_rate/compounding_periods))**(compounding_periods * years)\n",
    " )\n",
    "\n",
    " present_value_formatted = round(present_value, 2)\n",
    "\n",
    " return present_value_formated\n",
    "\n",
    "# Intialize the zero-coupon bond parameters, assume compounding period is equal to 1\n",
    "price = 700\n",
    "future_value = 1000\n",
    "discount_rate = .1\n",
    "compounding_periods = 1\n",
    "years = 5\n",
    "\n",
    "\n",
    "\n",
    "# @TODO: Call the calculate_present_value() function and assign to a variable\n",
    "bond_value = calculate_present_value(future_value, discount_rate, compounding_periods, years)\n",
    "\n",
    "print (f\"The present value of ${future_value} at a discount rate of {discount_rate} compunded {compounding_periods} time per year over {years} years is ${present_value}\")\n",
    "       \n",
    "\n",
    "# @TODO: Determine if the bond is worth it\n",
    "if bond_value > 700:\n",
    "    print(f\"the bond is not worth it as {bond_value} is higher than the price\")\n",
    "elif bond_value <= 700:\n",
    "    print(f'the bond is worth it as {bond_value} is below the selling price\")"
   ]
  },
  {
   "cell_type": "code",
   "execution_count": 35,
   "id": "dcea064f-789b-4bda-9fea-cacebfb59439",
   "metadata": {},
   "outputs": [
    {
     "name": "stdout",
     "output_type": "stream",
     "text": [
      "The present value of $1000 at a discount rate of 0.1 compunded 1 time per year over 5 years is $620.92\n"
     ]
    }
   ],
   "source": [
    "\n",
    "# -*- coding: utf-8 -*-\n",
    "\"\"\"\n",
    "Zero-Coupon Bond Valuation.\n",
    "\n",
    "This script will calculate the present value of zero-coupon bonds, compare the present value to the price of the bond, and determine the corresponding action (buy, not buy, neutral).\n",
    "\"\"\"\n",
    "\n",
    "\n",
    "\n",
    "\n",
    "# @TODO: Create a function to calculate present value\n",
    "\n",
    "def calculate_present_value(future_value, discount_rate, compounding_periods, years):\n",
    "\n",
    " present_value = future_value / (\n",
    "     (1 + (discount_rate/compounding_periods))**(compounding_periods * years)\n",
    " )\n",
    "\n",
    " present_value_formatted = round(present_value, 2)\n",
    "\n",
    " return present_value_formatted\n",
    "\n",
    "# Intialize the zero-coupon bond parameters, assume compounding period is equal to 1\n",
    "price = 700\n",
    "future_value = 1000\n",
    "discount_rate = .1\n",
    "compounding_periods = 1\n",
    "years = 5\n",
    "\n",
    "\n",
    "\n",
    "# @TODO: Call the calculate_present_value() function and assign to a variable\n",
    "bond_value = calculate_present_value(future_value, discount_rate, compounding_periods, years)\n",
    "\n",
    "\n",
    "print (f\"The present value of ${future_value} at a discount rate of {discount_rate} compunded {compounding_periods} time per year over {years} years is ${bond_value}\")\n",
    "       \n",
    "\n",
    "# @TODO: Determine if the bond is worth it\n"
   ]
  },
  {
   "cell_type": "code",
   "execution_count": null,
   "id": "973a7c6b-0ebe-4eb1-b290-aabf80c1e853",
   "metadata": {},
   "outputs": [],
   "source": [
    "Activity 3"
   ]
  },
  {
   "cell_type": "code",
   "execution_count": 39,
   "id": "a51a44ca-b060-4c1e-a682-a8764034c47e",
   "metadata": {},
   "outputs": [],
   "source": [
    "import numpy as np"
   ]
  },
  {
   "cell_type": "code",
   "execution_count": 8,
   "id": "c6653b7b-4b79-4663-aa89-f584fd2e1276",
   "metadata": {},
   "outputs": [
    {
     "ename": "NameError",
     "evalue": "name 'numpy' is not defined",
     "output_type": "error",
     "traceback": [
      "\u001b[1;31m---------------------------------------------------------------------------\u001b[0m",
      "\u001b[1;31mNameError\u001b[0m                                 Traceback (most recent call last)",
      "\u001b[1;32m~\\AppData\\Local\\Temp/ipykernel_14656/3373665211.py\u001b[0m in \u001b[0;36m<module>\u001b[1;34m\u001b[0m\n\u001b[0;32m      3\u001b[0m \u001b[0mcash_flows\u001b[0m \u001b[1;33m=\u001b[0m \u001b[1;33m[\u001b[0m\u001b[1;33m-\u001b[0m\u001b[1;36m1000\u001b[0m\u001b[1;33m,\u001b[0m \u001b[1;36m400\u001b[0m\u001b[1;33m,\u001b[0m\u001b[1;36m400\u001b[0m\u001b[1;33m,\u001b[0m\u001b[1;36m400\u001b[0m\u001b[1;33m,\u001b[0m\u001b[1;36m400\u001b[0m\u001b[1;33m]\u001b[0m\u001b[1;33m\u001b[0m\u001b[1;33m\u001b[0m\u001b[0m\n\u001b[0;32m      4\u001b[0m \u001b[1;33m\u001b[0m\u001b[0m\n\u001b[1;32m----> 5\u001b[1;33m \u001b[0mnet_present_value\u001b[0m \u001b[1;33m=\u001b[0m \u001b[0mnumpy\u001b[0m\u001b[1;33m.\u001b[0m\u001b[0mnpv\u001b[0m\u001b[1;33m(\u001b[0m\u001b[0minterest_rate\u001b[0m\u001b[1;33m,\u001b[0m \u001b[0mcash_flows\u001b[0m\u001b[1;33m)\u001b[0m\u001b[1;33m\u001b[0m\u001b[1;33m\u001b[0m\u001b[0m\n\u001b[0m\u001b[0;32m      6\u001b[0m \u001b[0mprint\u001b[0m\u001b[1;33m(\u001b[0m\u001b[1;34mf\"NPV = [NPV]\"\u001b[0m\u001b[1;33m)\u001b[0m\u001b[1;33m\u001b[0m\u001b[1;33m\u001b[0m\u001b[0m\n\u001b[0;32m      7\u001b[0m \u001b[1;33m\u001b[0m\u001b[0m\n",
      "\u001b[1;31mNameError\u001b[0m: name 'numpy' is not defined"
     ]
    }
   ],
   "source": [
    "#initialize some variables\n",
    "interest_rate = 0.1\n",
    "cash_flows = [-1000, 400,400,400,400]\n",
    "\n",
    "net_present_value = numpy.npv(interest_rate, cash_flows)\n",
    "print(f\"NPV = [NPV]\")\n",
    "      "
   ]
  },
  {
   "cell_type": "code",
   "execution_count": 40,
   "id": "58015738-010a-47e6-8d7a-46dedffabd2c",
   "metadata": {},
   "outputs": [
    {
     "ename": "SyntaxError",
     "evalue": "invalid syntax (Temp/ipykernel_5244/2385829600.py, line 1)",
     "output_type": "error",
     "traceback": [
      "\u001b[1;36m  File \u001b[1;32m\"C:\\Users\\Jacks\\AppData\\Local\\Temp/ipykernel_5244/2385829600.py\"\u001b[1;36m, line \u001b[1;32m1\u001b[0m\n\u001b[1;33m    student activity 3\u001b[0m\n\u001b[1;37m            ^\u001b[0m\n\u001b[1;31mSyntaxError\u001b[0m\u001b[1;31m:\u001b[0m invalid syntax\n"
     ]
    }
   ],
   "source": [
    "student activity 3"
   ]
  },
  {
   "cell_type": "code",
   "execution_count": 15,
   "id": "0491f304-1d4d-4c32-8e9d-948aed74289d",
   "metadata": {},
   "outputs": [
    {
     "name": "stdout",
     "output_type": "stream",
     "text": [
      "Requirement already satisfied: numpy_financial in c:\\users\\jacks\\anaconda3\\lib\\site-packages (1.0.0)\n",
      "Requirement already satisfied: numpy>=1.15 in c:\\users\\jacks\\anaconda3\\lib\\site-packages (from numpy_financial) (1.20.3)\n",
      "267.94617853971704\n",
      "401.91926780957544\n",
      "285.8923570794341\n"
     ]
    }
   ],
   "source": [
    "\n",
    "\n",
    "# -*- coding: utf-8 -*-\n",
    "\"\"\"Student Activity: Financial Analysis using NPV.\n",
    "\n",
    "This script will choose the optimal project scenario to\n",
    "undertake based on max NPV values.\n",
    "\"\"\"\n",
    "\n",
    "# @TODO: Import the NumPy library\n",
    "\n",
    "!pip install numpy_financial\n",
    "import numpy_financial as npf\n",
    "\n",
    "# Discount Rate\n",
    "discount_rate = .1\n",
    "\n",
    "# Initial Investment, Cash Flow 1, Cash Flow 2, Cash Flow 3, Cash Flow 4\n",
    "cash_flows_conservative = [-1000, 400, 400, 400, 400]\n",
    "cash_flows_neutral = [-1500, 600, 600, 600, 600]\n",
    "cash_flows_aggressive = [-2250, 800, 800, 800, 800]\n",
    "\n",
    "# @TODO: Initialize dictionary to hold NPV return values\n",
    "npv_dict = {}\n",
    "\n",
    "\n",
    "\n",
    "# @TODO: Calculate the NPV for each scenario -Jacky\n",
    "\n",
    "NPV_conservative = npf.npv(discount_rate, cash_flows_conservative)\n",
    "print(NPV_conservative)\n",
    "\n",
    "NPV_neutral = npf.npv(discount_rate, cash_flows_neutral)\n",
    "print(NPV_neutral)\n",
    "\n",
    "NPV_aggressive = npf.npv(discount_rate, cash_flows_aggressive)\n",
    "print(NPV_aggressive)\n",
    "\n",
    "\n",
    "# @TODO: Initialize variables\n",
    "\n",
    "\n",
    "\n",
    "# @TODO: Iterate over npv_dict to find the max key-value pair\n",
    "\n",
    "\n",
    "\n",
    "\n",
    "\n",
    "\n",
    "\n",
    "\n",
    "\n",
    "\n",
    "# @TODO: Print out the optimal project scenario with the highest NPV value\n"
   ]
  },
  {
   "cell_type": "code",
   "execution_count": 16,
   "id": "35f4c394-5f12-4946-a41b-4031c89757d2",
   "metadata": {},
   "outputs": [],
   "source": [
    "#file I/O\n",
    "from pathlib import Path"
   ]
  },
  {
   "cell_type": "code",
   "execution_count": 17,
   "id": "38ab231d-121b-4188-b678-6fec5efb2014",
   "metadata": {},
   "outputs": [
    {
     "name": "stdout",
     "output_type": "stream",
     "text": [
      "C:\\Users\\Jacks\\desktop\\GBST-case-study\\Class materials\n"
     ]
    }
   ],
   "source": [
    "#current working directory\n",
    "print(Path.cwd())"
   ]
  },
  {
   "cell_type": "code",
   "execution_count": 32,
   "id": "fe6b5452-2c6e-4930-8495-6866af98221d",
   "metadata": {},
   "outputs": [],
   "source": [
    "filepath = Path(\"../Class materials/text.txt\")\n",
    "\n",
    "with open(filepath,'r') as file:\n",
    "    text = file.read ()\n",
    "    #print(text)\n",
    "    \n",
    "    # line_num = 1\n",
    "    # for line in file:\n",
    "    #     print(f\"line {line_num}:{line}\")\n",
    "    #     line_num+=1\n",
    "    \n",
    "output_path = Path(\"output.txt\")\n",
    "\n",
    "with open(output_path, 'w') as file:\n",
    "    file.write(\"This is an output file.\\n\")\n",
    "    file.write(text)"
   ]
  },
  {
   "cell_type": "code",
   "execution_count": null,
   "id": "f0872c3b-7bc0-449b-87d7-31dbdb5cb549",
   "metadata": {},
   "outputs": [],
   "source": [
    "Student activity 4"
   ]
  },
  {
   "cell_type": "code",
   "execution_count": 26,
   "id": "b2ebf934-225b-4841-aa16-3ba15e8ec4be",
   "metadata": {},
   "outputs": [
    {
     "name": "stdout",
     "output_type": "stream",
     "text": [
      "C:\\Users\\Jacks\\desktop\\GBST-case-study\\Class materials\n"
     ]
    }
   ],
   "source": [
    "# -*- coding: utf-8 -*-\n",
    "\"\"\"Student Do: E-Commerce Traffic.\n",
    "\n",
    "This script will parse through a text file and sum the total\n",
    "number of customers and the count of days in the text file to\n",
    "calculate the daily average of customer traffic for an e-commerce\n",
    "business.\n",
    "\"\"\"\n",
    "\n",
    "# @TODO: From the pathlib library, import the main class Path\n",
    "\n",
    "\n",
    "# @TODO: Check the current directory where the Python program is executing from\n",
    "print(Path.cwd())\n",
    "\n",
    "# @TODO: Set the path using Pathlib\n",
    "filepath = Path\n",
    "\n",
    "# Initialize variables\n",
    "customer_total = 0\n",
    "day_count = 0\n",
    "\n",
    "# @TODO: Open the file in \"read\" mode ('r') and store the contents in the variable 'file'\n",
    "\n",
    "    # @TODO: Parse the file line by line\n",
    "\n",
    "\n",
    "        # @TODO: Convert the number in the text file from string to int (allows for numerical calculations)\n",
    "\n",
    "\n",
    "        # @TODO: Sum the total and count of the numbers in the text file\n",
    "\n",
    "\n",
    "\n",
    "# @TODO: Print out customer_total and day_count\n",
    "\n",
    "\n",
    "\n",
    "\n",
    "# @TODO: Calculate the average\n",
    "\n",
    "\n",
    "\n",
    "# @TODO: Set output file name\n",
    "\n",
    "\n",
    "# @TODO: Open the output path as a file object\n",
    "\n",
    "    # @TODO: Write daily_average to the output file, convert to string\n"
   ]
  },
  {
   "cell_type": "code",
   "execution_count": null,
   "id": "58079cfd-de7e-4a15-bab8-b353cb7512a9",
   "metadata": {},
   "outputs": [],
   "source": [
    "# Student activity 5"
   ]
  },
  {
   "cell_type": "code",
   "execution_count": 38,
   "id": "cc92f05f-b68e-4c29-96ce-6834a1b44b70",
   "metadata": {},
   "outputs": [],
   "source": [
    "# -*- coding: utf-8 -*-\n",
    "\"\"\"Student Do: Sales Analysis.\n",
    "\n",
    "This script will use the Pathlib library to set the file path,\n",
    "use the csv library to read in the file, and iterate over each\n",
    "row of the file to calculate customer sales averages.\n",
    "\"\"\"\n",
    "\n",
    "# @TODO: Import the pathlib and csv library\n",
    "\n",
    "import csv\n",
    "\n",
    "\n",
    "# @TODO: Set the file path\n",
    "filepath = Path(\"../Class materials/accounting.csv\")\n",
    "\n",
    "# Initialize list of records\n",
    "records = []\n",
    "\n",
    "# @TODO: Open the csv file as an object\n",
    "\n",
    "\n",
    "    # @TODO:\n",
    "    # Pass in the csv file to the csv.reader() function\n",
    "    # (with ',' as the delmiter/separator) and return the csvreader object\n",
    "\n",
    "    # @TODO: Read the header row\n",
    "\n",
    "    # @TODO: Print the header\n",
    "\n",
    "\n",
    "    # @TODO: Append the column 'Average' to the header\n",
    "\n",
    "    # @TODO: Append the header to the list of records\n",
    "\n",
    "\n",
    "    # @TODO: Read each row of data after the header\n",
    "\n",
    "        # @TODO: Print the row\n",
    "\n",
    "        # @TODO:\n",
    "        # Set the 'name', 'count', 'revenue' variables for better\n",
    "        # readability, convert strings to ints for numerical calculations\n",
    "\n",
    "\n",
    "\n",
    "\n",
    "        # @TODO: Calculate the average (round to the nearest 2 decimal places)\n",
    "\n",
    "\n",
    "        # @TODO: Append the average to the row\n",
    "\n",
    "        # @TODO: Append the row to the list of records\n",
    "\n",
    "\n",
    "# @TODO: Set the path for the output.csv\n",
    "\n",
    "# @TODO:\n",
    "# Open the output path as a file and pass into the 'csv.writer()' function\n",
    "# Set the delimiter/separater as a ','\n",
    "\n",
    "\n",
    "    # @TODO:\n",
    "    # Loop through the list of records and write every record to the\n",
    "    # output csv file\n"
   ]
  },
  {
   "cell_type": "code",
   "execution_count": null,
   "id": "fe1d9dec-95c0-4041-8dfa-6f3f926446a7",
   "metadata": {},
   "outputs": [],
   "source": []
  }
 ],
 "metadata": {
  "kernelspec": {
   "display_name": "Python 3 (ipykernel)",
   "language": "python",
   "name": "python3"
  },
  "language_info": {
   "codemirror_mode": {
    "name": "ipython",
    "version": 3
   },
   "file_extension": ".py",
   "mimetype": "text/x-python",
   "name": "python",
   "nbconvert_exporter": "python",
   "pygments_lexer": "ipython3",
   "version": "3.9.7"
  }
 },
 "nbformat": 4,
 "nbformat_minor": 5
}
